{
 "cells": [
  {
   "cell_type": "code",
   "execution_count": 24,
   "metadata": {},
   "outputs": [],
   "source": [
    "from sympy import Symbol, simplify, Integer"
   ]
  },
  {
   "cell_type": "code",
   "execution_count": 67,
   "metadata": {},
   "outputs": [],
   "source": [
    "class SymbolicValue:\n",
    "    def __init__(self, initial_value=0, symbolic=False):\n",
    "        if symbolic:\n",
    "            self.value = Symbol('x')\n",
    "        else:\n",
    "            self.value = initial_value\n",
    "\n",
    "    def increment(self):\n",
    "        self.value += 1\n",
    "        self.value = simplify(self.value)\n",
    "\n",
    "    def decrement(self):\n",
    "        self.value -= 1\n",
    "        self.value = simplify(self.value)\n",
    "\n",
    "    def __str__(self):\n",
    "        return str(self.value)\n",
    "\n",
    "    \n",
    "class BrainfuckSymbolicSolver:\n",
    "    def __init__(self):\n",
    "        self.tape = [0] * 30000  \n",
    "        self.pointer = 0\n",
    "        self.symbolic_state = {}  # to track symbolic values\n",
    "\n",
    "    def interpret(self, code):\n",
    "        # sym interpret\n",
    "        for char in code:\n",
    "            self.execute_command(char)\n",
    "\n",
    "    def execute_command(self, char):\n",
    "        # Execute a single Brainfuck command\n",
    "        if char == '>':\n",
    "            self.pointer += 1\n",
    "        elif char == '<':\n",
    "            self.pointer -= 1\n",
    "        elif char == '+':\n",
    "            self.symbolic_increment()\n",
    "        elif char == '-':\n",
    "            self.symbolic_decrement()\n",
    "        # handel loops\n",
    "    \n",
    "    def symbolic_increment(self):\n",
    "        if self.pointer not in self.symbolic_state:\n",
    "            self.symbolic_state[self.pointer] = SymbolicValue()\n",
    "        self.symbolic_state[self.pointer].increment()\n",
    "\n",
    "    def symbolic_decrement(self):\n",
    "        if self.pointer not in self.symbolic_state:\n",
    "            self.symbolic_state[self.pointer] = SymbolicValue()\n",
    "        self.symbolic_state[self.pointer].decrement()\n",
    "\n",
    "\n",
    "    def optimize(self, code):\n",
    "        optimized_code = \"\"\n",
    "        self.pointer = 0\n",
    "        self.symbolic_state = {}\n",
    "\n",
    "        for char in code:\n",
    "            if char in ['+', '-']:\n",
    "                self.execute_command(char)\n",
    "            elif char == '>':\n",
    "                self.pointer += 1  # update the pointer for '>'\n",
    "            elif char == '<':\n",
    "                self.pointer -= 1  # update the pointer for '<'\n",
    "            elif char == '.':\n",
    "\n",
    "                optimized_code += self.apply_optimizations()\n",
    "                # Reset state after optimizations\n",
    "                # self.pointer = 0\n",
    "                # self.symbolic_state = {}\n",
    "                # Add the print command\n",
    "                optimized_code += f\"sys.stdout.write(chr(tape[{self.pointer}]))\\n\"\n",
    "            else:\n",
    "                optimized_code += self.apply_optimizations()\n",
    "                self.pointer = 0  \n",
    "                self.symbolic_state = {}  \n",
    "                optimized_code += char\n",
    "\n",
    "        \n",
    "        optimized_code += self.apply_optimizations()\n",
    "\n",
    "        return optimized_code\n",
    "\n",
    "    def apply_optimizations(self):\n",
    "        optimized_python_code = \"\"\n",
    "        for position, symbolic_value in self.symbolic_state.items():\n",
    "            \n",
    "            simplified_value = symbolic_value.value\n",
    "\n",
    "            if isinstance(simplified_value, Integer):\n",
    "                optimized_python_code += f\"tape[{position}] = {simplified_value}\\n\"\n",
    "            elif isinstance(simplified_value, Symbol):\n",
    "                optimized_python_code += f\"tape[{position}] = {simplified_value}\\n\"\n",
    "            else:\n",
    "                optimized_python_code += f\"tape[{position}] = {simplified_value}\\n\"\n",
    "\n",
    "        return optimized_python_code\n",
    "    \n",
    "    def optimize_and_convert_to_python(self, bf_filename):\n",
    "        # Read Brainfuck code from file\n",
    "        # with open(bf_filename, 'r') as file:\n",
    "        #     bf_code = file.read()\n",
    "        bf_code = bf_filename\n",
    "        # Optimize Brainfuck code\n",
    "        optimized_python_code = self.optimize(bf_code)\n",
    "\n",
    "        # Create Python file with the same name but with .py extension\n",
    "        # py_filename = bf_filename.rsplit('.', 1)[0] + '.py'\n",
    "        py_filename = \"test.py\"\n",
    "        with open(py_filename, 'w') as file:\n",
    "            file.write(self.generate_python_code(optimized_python_code))\n",
    "\n",
    "        print(f\"Python code generated: {py_filename}\")\n",
    "    \n",
    "    def generate_python_code(self, optimized_python_code):\n",
    "        python_code_template = \"\"\"import sys\n",
    "\n",
    "def main():\n",
    "    tape = [0] * 30000  # Initialize tape\n",
    "    pointer = 0\n",
    "    \n",
    "    {}\n",
    "    print()  # New line after program execution\n",
    "\n",
    "if __name__ == \"__main__\":\n",
    "    main()\n",
    "        \"\"\"\n",
    "        # indented_code = '\\n'.join('\\t' + line for line in optimized_python_code.splitlines())\n",
    "        indented_code = optimized_python_code.replace('\\n', '\\n    ')\n",
    "        return python_code_template.format(indented_code)\n",
    " \n"
   ]
  },
  {
   "cell_type": "code",
   "execution_count": 5,
   "metadata": {},
   "outputs": [],
   "source": [
    "solver = BrainfuckSymbolicSolver()\n",
    "solver.interpret(\"++>+-\") \n",
    "# solver.optimize()"
   ]
  },
  {
   "cell_type": "code",
   "execution_count": 69,
   "metadata": {},
   "outputs": [
    {
     "name": "stdout",
     "output_type": "stream",
     "text": [
      "Python code generated: test.py\n"
     ]
    }
   ],
   "source": [
    "solver = BrainfuckSymbolicSolver()\n",
    "solver.optimize_and_convert_to_python(\"+++>+<--.\")"
   ]
  },
  {
   "cell_type": "code",
   "execution_count": 27,
   "metadata": {},
   "outputs": [
    {
     "name": "stdout",
     "output_type": "stream",
     "text": [
      "Optimized code: tape[0] = 5\n",
      "tape[1] = 3\n",
      "\n"
     ]
    }
   ],
   "source": [
    "solver = BrainfuckSymbolicSolver()\n",
    "optimized_code = solver.optimize(\"+++++>+++\")\n",
    "print(\"Optimized code:\", optimized_code)"
   ]
  },
  {
   "cell_type": "code",
   "execution_count": 28,
   "metadata": {},
   "outputs": [
    {
     "name": "stdout",
     "output_type": "stream",
     "text": [
      "Optimized code: tape[0] = 2\n",
      "tape[1] = 0\n",
      "\n"
     ]
    }
   ],
   "source": [
    "optimized_code = solver.optimize(\"++>+-\")\n",
    "print(\"Optimized code:\", optimized_code)"
   ]
  }
 ],
 "metadata": {
  "kernelspec": {
   "display_name": "PMenv",
   "language": "python",
   "name": "python3"
  },
  "language_info": {
   "codemirror_mode": {
    "name": "ipython",
    "version": 3
   },
   "file_extension": ".py",
   "mimetype": "text/x-python",
   "name": "python",
   "nbconvert_exporter": "python",
   "pygments_lexer": "ipython3",
   "version": "3.9.1"
  }
 },
 "nbformat": 4,
 "nbformat_minor": 2
}
