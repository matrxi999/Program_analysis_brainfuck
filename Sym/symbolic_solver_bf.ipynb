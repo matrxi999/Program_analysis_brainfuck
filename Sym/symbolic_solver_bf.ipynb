{
 "cells": [
  {
   "cell_type": "code",
   "execution_count": 2,
   "metadata": {},
   "outputs": [],
   "source": [
    "from sympy import Symbol, simplify, Integer"
   ]
  },
  {
   "cell_type": "code",
   "execution_count": 3,
   "metadata": {},
   "outputs": [],
   "source": [
    "\n",
    "class SymbolicValue:\n",
    "    def __init__(self, initial_value=None, symbolic=False):\n",
    "        self.symbolic = symbolic\n",
    "        if symbolic:\n",
    "            self.value = Symbol('x')\n",
    "        else:\n",
    "            self.value = initial_value if initial_value is not None else 0\n",
    "\n",
    "    def increment(self):\n",
    "        self.value += 1\n",
    "        if self.symbolic:\n",
    "            self.value = simplify(self.value)\n",
    "\n",
    "    def decrement(self):\n",
    "        self.value -= 1\n",
    "        if self.symbolic:\n",
    "            self.value = simplify(self.value)\n",
    "\n",
    "    def is_changed(self):\n",
    "        # fix ze sa pozrie aj ci sa zmenila od posledna\n",
    "        return self.value != 0 or self.symbolic\n",
    "    \n",
    "    def get_optimized_value(self):\n",
    "        return simplify(self.value) if self.symbolic else self.value\n",
    "\n",
    "    def reset(self):\n",
    "        self.value = 0\n",
    "\n",
    "    def __str__(self):\n",
    "        return str(self.value)\n",
    "\n",
    "    \n",
    "class BrainfuckSymbolicSolver:\n",
    "    def __init__(self):\n",
    "        self.tape = [SymbolicValue() for _ in range(30000)]  \n",
    "        self.pointer = 0\n",
    "        self.symbolic_state = {}  # to track symbolic values\n",
    "        self.loop_stack = [] # to keep track of loop\n",
    "        \n",
    "    def interpret(self, code):\n",
    "        # sym interpret\n",
    "        for char in code:\n",
    "            self.execute_command(char)\n",
    "\n",
    "    def execute_command(self, char):\n",
    "        # Execute a single Brainfuck command\n",
    "        if char == '>':\n",
    "            self.pointer += 1\n",
    "        elif char == '<':\n",
    "            self.pointer -= 1\n",
    "        elif char in ['+', '-']:\n",
    "            self.symbolic_add_sub(char)\n",
    "        # handel loops\n",
    "\n",
    "    def symbolic_add_sub(self, char):\n",
    "        if self.pointer not in self.symbolic_state:\n",
    "            self.symbolic_state[self.pointer] = SymbolicValue()\n",
    "        if char == '+':\n",
    "            self.symbolic_state[self.pointer].increment()\n",
    "        elif char == '-':\n",
    "            self.symbolic_state[self.pointer].decrement()\n",
    "\n",
    "\n",
    "    def optimize(self, code):\n",
    "        optimized_code = \"\"\n",
    "        self.pointer = 0\n",
    "        self.symbolic_state = {}\n",
    "\n",
    "        for char in code:\n",
    "            if char in ['+', '-', '>', '<']:\n",
    "                self.execute_command(char)\n",
    "            elif char == '[':\n",
    "                optimized_code += self.apply_optimizations()\n",
    "                self.start_loop()\n",
    "            elif char == ']':\n",
    "                optimized_code += self.apply_loop_optimizations()\n",
    "                self.end_loop()\n",
    "            elif char == '.':\n",
    "                optimized_code += self.apply_optimizations()\n",
    "                optimized_code += f\"print(chr(tape[{self.pointer}]), end='')\\n\"\n",
    "            else:\n",
    "                optimized_code += self.apply_optimizations()\n",
    "                optimized_code += char\n",
    "\n",
    "        # Apply any remaining optimizations at the end\n",
    "        optimized_code += self.apply_optimizations()\n",
    "        return optimized_code\n",
    "\n",
    "    def apply_optimizations(self):\n",
    "        optimized_code = \"\"\n",
    "        for pointer, symbolic_value  in self.symbolic_state.items():\n",
    "            if symbolic_value.is_changed():\n",
    "                self.tape[pointer] = symbolic_value\n",
    "                optimized_code += f\"tape[{pointer}] = {symbolic_value.get_optimized_value()}\\n\"\n",
    "                # value.reset()\n",
    "\n",
    "        # self.symbolic_state = {}\n",
    "        return optimized_code\n",
    "\n",
    "    def apply_loop_optimizations(self):\n",
    "        return \"[]\\n\"  # Placeholder for actual loop optimization logic\n",
    "    \n",
    "    def optimize_and_convert_to_python(self, bf_filename):\n",
    "        # with open(bf_filename, 'r') as file:\n",
    "        #     bf_code = file.read()\n",
    "        bf_code = bf_filename\n",
    "        optimized_python_code = self.optimize(bf_code)\n",
    "        # py_filename = bf_filename.rsplit('.', 1)[0] + '.py'\n",
    "        py_filename = \"test.py\"\n",
    "        with open(py_filename, 'w') as file:\n",
    "            file.write(self.generate_python_code(optimized_python_code))\n",
    "\n",
    "        print(f\"Python code generated: {py_filename}\")\n",
    "    \n",
    "    def generate_python_code(self, optimized_python_code):\n",
    "        python_code_template = \"\"\"import sys\n",
    "\n",
    "def main():\n",
    "    tape = [0] * 30000  # Initialize tape\n",
    "    pointer = 0\n",
    "    \n",
    "    {}\n",
    "    print()  # New line after program execution\n",
    "\n",
    "if __name__ == \"__main__\":\n",
    "    main()\n",
    "        \"\"\"\n",
    "        # indented_code = '\\n'.join('\\t' + line for line in optimized_python_code.splitlines())\n",
    "        indented_code = optimized_python_code.replace('\\n', '\\n    ')\n",
    "        return python_code_template.format(indented_code)\n",
    " \n"
   ]
  },
  {
   "cell_type": "code",
   "execution_count": 5,
   "metadata": {},
   "outputs": [],
   "source": [
    "solver = BrainfuckSymbolicSolver()\n",
    "solver.interpret(\"++>+-\") \n",
    "# solver.optimize()"
   ]
  },
  {
   "cell_type": "code",
   "execution_count": 6,
   "metadata": {},
   "outputs": [
    {
     "name": "stdout",
     "output_type": "stream",
     "text": [
      "Python code generated: test.py\n"
     ]
    }
   ],
   "source": [
    "solver = BrainfuckSymbolicSolver()\n",
    "solver.optimize_and_convert_to_python(\"+.++--\")"
   ]
  },
  {
   "cell_type": "code",
   "execution_count": 27,
   "metadata": {},
   "outputs": [
    {
     "name": "stdout",
     "output_type": "stream",
     "text": [
      "Optimized code: tape[0] = 5\n",
      "tape[1] = 3\n",
      "\n"
     ]
    }
   ],
   "source": [
    "solver = BrainfuckSymbolicSolver()\n",
    "optimized_code = solver.optimize(\"+++++>+++\")\n",
    "print(\"Optimized code:\", optimized_code)"
   ]
  },
  {
   "cell_type": "code",
   "execution_count": 28,
   "metadata": {},
   "outputs": [
    {
     "name": "stdout",
     "output_type": "stream",
     "text": [
      "Optimized code: tape[0] = 2\n",
      "tape[1] = 0\n",
      "\n"
     ]
    }
   ],
   "source": [
    "optimized_code = solver.optimize(\"++>+-\")\n",
    "print(\"Optimized code:\", optimized_code)"
   ]
  }
 ],
 "metadata": {
  "kernelspec": {
   "display_name": "PMenv",
   "language": "python",
   "name": "python3"
  },
  "language_info": {
   "codemirror_mode": {
    "name": "ipython",
    "version": 3
   },
   "file_extension": ".py",
   "mimetype": "text/x-python",
   "name": "python",
   "nbconvert_exporter": "python",
   "pygments_lexer": "ipython3",
   "version": "3.9.1"
  }
 },
 "nbformat": 4,
 "nbformat_minor": 2
}
